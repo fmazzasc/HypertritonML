{
 "cells": [
  {
   "cell_type": "code",
   "execution_count": null,
   "metadata": {},
   "outputs": [],
   "source": [
    "from hipe4ml import plot_utils"
   ]
  },
  {
   "cell_type": "code",
   "execution_count": null,
   "metadata": {},
   "outputs": [],
   "source": [
    "import uproot\n",
    "import matplotlib.pyplot as plt\n",
    "import seaborn as sns"
   ]
  },
  {
   "cell_type": "code",
   "execution_count": null,
   "metadata": {},
   "outputs": [],
   "source": [
    "df_sig = uproot.open(\"SignalTable.root\")[\"SignalTable\"].pandas.df()\n",
    "df_bkg = uproot.open(\"DataTable_18LS.root\")[\"DataTable\"].pandas.df()"
   ]
  },
  {
   "cell_type": "code",
   "execution_count": null,
   "metadata": {},
   "outputs": [],
   "source": [
    "training_columns = [\"ProngsDCA\",\"He3ProngPvDCA\",\"He3ProngPvDCAXY\",\"PiProngPvDCA\",\"PiProngPvDCAXY\",\"TPCnSigmaHe3\",\"TPCnSigmaPi\",\"NpidClustersHe3\",\"V0CosPA\", \"pt\"]"
   ]
  },
  {
   "cell_type": "code",
   "execution_count": null,
   "metadata": {},
   "outputs": [],
   "source": [
    "training_labels = [r\"$\\mathrm{DCA_{daughters}}$ (cm)\", r\"$\\mathrm{DCA_{PV} \\/ ^{3}He} $ (cm)\",  r\"$\\mathrm{DCA_{PV} \\/ \\pi} $ (cm)\", r\"$\\mathrm{DCA_{PV XY} \\/ ^{3}He}$ (cm)\",  r\"$\\mathrm{DCA_{PV XY} \\/ \\pi}$ (cm)\", r\"n$\\sigma_{\\mathrm{TPC}} \\/ \\mathrm{^{3}He}$\",  r\"n$\\sigma_{\\mathrm{TPC}} \\/ \\mathrm{\\pi}$\", r\"n$_{\\mathrm{cluster TPC}} \\/ \\mathrm{^{3}He}$\", r\"cos($\\theta_{\\mathrm{pointing}}$)\", r\"$p_\\mathrm{T}$ (GeV/$c$)\"]  "
   ]
  },
  {
   "cell_type": "code",
   "execution_count": null,
   "metadata": {},
   "outputs": [],
   "source": [
    "bins= [80, 63, 63, 63, 63, 79, 78, 127,63,63]\n",
    "log_scale = [True, True, True, True, True, True, True, True, True, True]"
   ]
  },
  {
   "cell_type": "code",
   "execution_count": null,
   "metadata": {},
   "outputs": [],
   "source": [
    "len(bins)"
   ]
  },
  {
   "cell_type": "code",
   "execution_count": null,
   "metadata": {
    "scrolled": false
   },
   "outputs": [],
   "source": [
    "fig, axs = plt.subplots(3,4, figsize=(35, 22))\n",
    "axs = axs.flatten()\n",
    "for index, variable in enumerate(training_columns, start=0):\n",
    "    ax = axs[index]\n",
    "    ax = sns.distplot(df_sig[variable], norm_hist=True, kde=False, bins=bins[index], hist_kws={'log': log_scale[index]}, label='Signal', color='tab:red', ax=ax)\n",
    "    ax = sns.distplot(df_bkg[variable], norm_hist=True, kde=False, bins=bins[index], hist_kws={'log': log_scale[index]}, label='Background', color='tab:blue', ax=ax)\n",
    "    ax.set_xlabel(training_labels[index], fontsize=30)\n",
    "    ax.set_ylabel('counts (arb. units)', fontsize=30)\n",
    "    ax.set_xlim(df_bkg[variable].min(), df_sig[variable].max())\n",
    "    ax.tick_params(direction='in')\n",
    "\n",
    "fig.delaxes(axs[-1])\n",
    "fig.delaxes(axs[-2])\n",
    "axs[-4].legend(bbox_to_anchor=(3.9, 0.58),prop={'size': 48}, frameon=False)\n",
    "plt.text(0.61, 0.31, \"ALICE Performance\", fontsize=48, transform=plt.gcf().transFigure)\n",
    "plt.text(0.595, 0.263, \"Pb-Pb $\\sqrt{s_{\\mathrm{NN}}} = $ 5.02TeV \", fontsize=48, transform=plt.gcf().transFigure)"
   ]
  },
  {
   "cell_type": "code",
   "execution_count": null,
   "metadata": {},
   "outputs": [],
   "source": [
    "fig.savefig(\"feature_distribution.png\",bbox_inches='tight')\n",
    "fig.savefig(\"feature_distribution.pdf\",bbox_inches='tight')\n",
    "fig.set_rasterized(True)\n",
    "fig.savefig(\"feature_distribution.eps\", format=\"eps\", bbox_inches='tight')"
   ]
  },
  {
   "cell_type": "code",
   "execution_count": null,
   "metadata": {},
   "outputs": [],
   "source": []
  }
 ],
 "metadata": {
  "kernelspec": {
   "display_name": "Python 3",
   "language": "python",
   "name": "python3"
  },
  "language_info": {
   "codemirror_mode": {
    "name": "ipython",
    "version": 3
   },
   "file_extension": ".py",
   "mimetype": "text/x-python",
   "name": "python",
   "nbconvert_exporter": "python",
   "pygments_lexer": "ipython3",
   "version": "3.6.9"
  }
 },
 "nbformat": 4,
 "nbformat_minor": 4
}
