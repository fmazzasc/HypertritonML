{
 "cells": [
  {
   "cell_type": "markdown",
   "metadata": {},
   "source": [
    "# Convert  \".root\" data into \".pkl\""
   ]
  },
  {
   "cell_type": "code",
   "execution_count": 1,
   "metadata": {
    "scrolled": true
   },
   "outputs": [
    {
     "name": "stdout",
     "output_type": "stream",
     "text": [
      "Populating the interactive namespace from numpy and matplotlib\n"
     ]
    }
   ],
   "source": [
    "%pylab inline\n",
    "\n",
    "import uproot\n",
    "import pandas as pd"
   ]
  },
  {
   "cell_type": "markdown",
   "metadata": {},
   "source": [
    "### Carico il Monte Carlo e i dati"
   ]
  },
  {
   "cell_type": "code",
   "execution_count": 2,
   "metadata": {},
   "outputs": [],
   "source": [
    "df_MC = uproot.open('~/data/hyper2body_data/HyperTree_MC_Signal.root')['HyperTree_MC_Signal'].pandas.df()"
   ]
  },
  {
   "cell_type": "code",
   "execution_count": 3,
   "metadata": {},
   "outputs": [],
   "source": [
    "df_data = uproot.open('~/data/hyper2body_data/HyperTree_Data.root')['HyperTree_Data'].pandas.df()"
   ]
  },
  {
   "cell_type": "code",
   "execution_count": 4,
   "metadata": {},
   "outputs": [
    {
     "data": {
      "text/html": [
       "<div>\n",
       "<style scoped>\n",
       "    .dataframe tbody tr th:only-of-type {\n",
       "        vertical-align: middle;\n",
       "    }\n",
       "\n",
       "    .dataframe tbody tr th {\n",
       "        vertical-align: top;\n",
       "    }\n",
       "\n",
       "    .dataframe thead th {\n",
       "        text-align: right;\n",
       "    }\n",
       "</style>\n",
       "<table border=\"1\" class=\"dataframe\">\n",
       "  <thead>\n",
       "    <tr style=\"text-align: right;\">\n",
       "      <th></th>\n",
       "      <th>V0pt</th>\n",
       "      <th>TPCnSigmaHe3</th>\n",
       "      <th>DistOverP</th>\n",
       "      <th>InvMass</th>\n",
       "      <th>ArmenterosAlpha</th>\n",
       "      <th>V0CosPA</th>\n",
       "      <th>V0Chi2</th>\n",
       "      <th>PiProngPt</th>\n",
       "      <th>He3ProngPt</th>\n",
       "      <th>ProngsDCA</th>\n",
       "      <th>He3ProngPvDCA</th>\n",
       "      <th>PiProngPvDCA</th>\n",
       "      <th>NpidClustersHe3</th>\n",
       "      <th>TPCnSigmaPi</th>\n",
       "      <th>Lrec</th>\n",
       "      <th>Centrality</th>\n",
       "    </tr>\n",
       "    <tr>\n",
       "      <th>entry</th>\n",
       "      <th></th>\n",
       "      <th></th>\n",
       "      <th></th>\n",
       "      <th></th>\n",
       "      <th></th>\n",
       "      <th></th>\n",
       "      <th></th>\n",
       "      <th></th>\n",
       "      <th></th>\n",
       "      <th></th>\n",
       "      <th></th>\n",
       "      <th></th>\n",
       "      <th></th>\n",
       "      <th></th>\n",
       "      <th></th>\n",
       "      <th></th>\n",
       "    </tr>\n",
       "  </thead>\n",
       "  <tbody>\n",
       "    <tr>\n",
       "      <th>0</th>\n",
       "      <td>1.547667</td>\n",
       "      <td>-1.00</td>\n",
       "      <td>42.901505</td>\n",
       "      <td>2.989854</td>\n",
       "      <td>0.790592</td>\n",
       "      <td>0.991963</td>\n",
       "      <td>0.0</td>\n",
       "      <td>0.198183</td>\n",
       "      <td>1.358050</td>\n",
       "      <td>0.44</td>\n",
       "      <td>0.256</td>\n",
       "      <td>0.256</td>\n",
       "      <td>133.0</td>\n",
       "      <td>1.0</td>\n",
       "      <td>72.552902</td>\n",
       "      <td>2.85</td>\n",
       "    </tr>\n",
       "    <tr>\n",
       "      <th>1</th>\n",
       "      <td>1.590310</td>\n",
       "      <td>-1.25</td>\n",
       "      <td>58.802124</td>\n",
       "      <td>2.984586</td>\n",
       "      <td>0.771460</td>\n",
       "      <td>0.996810</td>\n",
       "      <td>0.0</td>\n",
       "      <td>0.193549</td>\n",
       "      <td>1.408496</td>\n",
       "      <td>0.12</td>\n",
       "      <td>0.256</td>\n",
       "      <td>0.256</td>\n",
       "      <td>138.0</td>\n",
       "      <td>0.0</td>\n",
       "      <td>98.125320</td>\n",
       "      <td>8.85</td>\n",
       "    </tr>\n",
       "    <tr>\n",
       "      <th>2</th>\n",
       "      <td>1.268124</td>\n",
       "      <td>-1.25</td>\n",
       "      <td>34.876041</td>\n",
       "      <td>3.091097</td>\n",
       "      <td>0.855789</td>\n",
       "      <td>0.996040</td>\n",
       "      <td>0.0</td>\n",
       "      <td>0.140469</td>\n",
       "      <td>1.408496</td>\n",
       "      <td>0.76</td>\n",
       "      <td>0.256</td>\n",
       "      <td>0.256</td>\n",
       "      <td>138.0</td>\n",
       "      <td>-1.0</td>\n",
       "      <td>47.493088</td>\n",
       "      <td>8.85</td>\n",
       "    </tr>\n",
       "    <tr>\n",
       "      <th>3</th>\n",
       "      <td>1.566654</td>\n",
       "      <td>-1.25</td>\n",
       "      <td>23.185598</td>\n",
       "      <td>2.973178</td>\n",
       "      <td>0.785518</td>\n",
       "      <td>0.984973</td>\n",
       "      <td>0.0</td>\n",
       "      <td>0.159276</td>\n",
       "      <td>1.408496</td>\n",
       "      <td>0.12</td>\n",
       "      <td>0.256</td>\n",
       "      <td>0.149</td>\n",
       "      <td>138.0</td>\n",
       "      <td>1.5</td>\n",
       "      <td>38.409828</td>\n",
       "      <td>8.85</td>\n",
       "    </tr>\n",
       "    <tr>\n",
       "      <th>4</th>\n",
       "      <td>1.423597</td>\n",
       "      <td>1.25</td>\n",
       "      <td>25.090576</td>\n",
       "      <td>3.012177</td>\n",
       "      <td>0.933165</td>\n",
       "      <td>0.995859</td>\n",
       "      <td>0.0</td>\n",
       "      <td>0.109908</td>\n",
       "      <td>1.373186</td>\n",
       "      <td>0.37</td>\n",
       "      <td>0.256</td>\n",
       "      <td>0.256</td>\n",
       "      <td>49.0</td>\n",
       "      <td>-3.0</td>\n",
       "      <td>35.792778</td>\n",
       "      <td>10.95</td>\n",
       "    </tr>\n",
       "  </tbody>\n",
       "</table>\n",
       "</div>"
      ],
      "text/plain": [
       "           V0pt  TPCnSigmaHe3  DistOverP   InvMass  ArmenterosAlpha   V0CosPA  \\\n",
       "entry                                                                           \n",
       "0      1.547667         -1.00  42.901505  2.989854         0.790592  0.991963   \n",
       "1      1.590310         -1.25  58.802124  2.984586         0.771460  0.996810   \n",
       "2      1.268124         -1.25  34.876041  3.091097         0.855789  0.996040   \n",
       "3      1.566654         -1.25  23.185598  2.973178         0.785518  0.984973   \n",
       "4      1.423597          1.25  25.090576  3.012177         0.933165  0.995859   \n",
       "\n",
       "       V0Chi2  PiProngPt  He3ProngPt  ProngsDCA  He3ProngPvDCA  PiProngPvDCA  \\\n",
       "entry                                                                          \n",
       "0         0.0   0.198183    1.358050       0.44          0.256         0.256   \n",
       "1         0.0   0.193549    1.408496       0.12          0.256         0.256   \n",
       "2         0.0   0.140469    1.408496       0.76          0.256         0.256   \n",
       "3         0.0   0.159276    1.408496       0.12          0.256         0.149   \n",
       "4         0.0   0.109908    1.373186       0.37          0.256         0.256   \n",
       "\n",
       "       NpidClustersHe3  TPCnSigmaPi       Lrec  Centrality  \n",
       "entry                                                       \n",
       "0                133.0          1.0  72.552902        2.85  \n",
       "1                138.0          0.0  98.125320        8.85  \n",
       "2                138.0         -1.0  47.493088        8.85  \n",
       "3                138.0          1.5  38.409828        8.85  \n",
       "4                 49.0         -3.0  35.792778       10.95  "
      ]
     },
     "execution_count": 4,
     "metadata": {},
     "output_type": "execute_result"
    }
   ],
   "source": [
    "df_data.head()"
   ]
  },
  {
   "cell_type": "code",
   "execution_count": 5,
   "metadata": {},
   "outputs": [
    {
     "data": {
      "text/html": [
       "<div>\n",
       "<style scoped>\n",
       "    .dataframe tbody tr th:only-of-type {\n",
       "        vertical-align: middle;\n",
       "    }\n",
       "\n",
       "    .dataframe tbody tr th {\n",
       "        vertical-align: top;\n",
       "    }\n",
       "\n",
       "    .dataframe thead th {\n",
       "        text-align: right;\n",
       "    }\n",
       "</style>\n",
       "<table border=\"1\" class=\"dataframe\">\n",
       "  <thead>\n",
       "    <tr style=\"text-align: right;\">\n",
       "      <th></th>\n",
       "      <th>V0pt</th>\n",
       "      <th>TPCnSigmaHe3</th>\n",
       "      <th>DistOverP</th>\n",
       "      <th>InvMass</th>\n",
       "      <th>ArmenterosAlpha</th>\n",
       "      <th>V0CosPA</th>\n",
       "      <th>V0Chi2</th>\n",
       "      <th>PiProngPt</th>\n",
       "      <th>He3ProngPt</th>\n",
       "      <th>ProngsDCA</th>\n",
       "      <th>He3ProngPvDCA</th>\n",
       "      <th>PiProngPvDCA</th>\n",
       "      <th>NpidClustersHe3</th>\n",
       "      <th>TPCnSigmaPi</th>\n",
       "      <th>Lrec</th>\n",
       "      <th>Centrality</th>\n",
       "    </tr>\n",
       "    <tr>\n",
       "      <th>entry</th>\n",
       "      <th></th>\n",
       "      <th></th>\n",
       "      <th></th>\n",
       "      <th></th>\n",
       "      <th></th>\n",
       "      <th></th>\n",
       "      <th></th>\n",
       "      <th></th>\n",
       "      <th></th>\n",
       "      <th></th>\n",
       "      <th></th>\n",
       "      <th></th>\n",
       "      <th></th>\n",
       "      <th></th>\n",
       "      <th></th>\n",
       "      <th></th>\n",
       "    </tr>\n",
       "  </thead>\n",
       "  <tbody>\n",
       "    <tr>\n",
       "      <th>0</th>\n",
       "      <td>1.801913</td>\n",
       "      <td>0.500</td>\n",
       "      <td>3.079487</td>\n",
       "      <td>2.992206</td>\n",
       "      <td>0.848579</td>\n",
       "      <td>0.997848</td>\n",
       "      <td>0.0</td>\n",
       "      <td>0.194784</td>\n",
       "      <td>1.619431</td>\n",
       "      <td>0.77</td>\n",
       "      <td>1.000000</td>\n",
       "      <td>1.0</td>\n",
       "      <td>120.0</td>\n",
       "      <td>0.125</td>\n",
       "      <td>6.497778</td>\n",
       "      <td>4.65</td>\n",
       "    </tr>\n",
       "    <tr>\n",
       "      <th>1</th>\n",
       "      <td>2.850354</td>\n",
       "      <td>0.625</td>\n",
       "      <td>5.009816</td>\n",
       "      <td>2.992606</td>\n",
       "      <td>-0.865971</td>\n",
       "      <td>0.999918</td>\n",
       "      <td>0.0</td>\n",
       "      <td>0.193109</td>\n",
       "      <td>2.667301</td>\n",
       "      <td>0.58</td>\n",
       "      <td>0.667969</td>\n",
       "      <td>1.0</td>\n",
       "      <td>124.0</td>\n",
       "      <td>1.125</td>\n",
       "      <td>14.319689</td>\n",
       "      <td>4.65</td>\n",
       "    </tr>\n",
       "    <tr>\n",
       "      <th>2</th>\n",
       "      <td>3.941775</td>\n",
       "      <td>-0.500</td>\n",
       "      <td>2.213483</td>\n",
       "      <td>2.993389</td>\n",
       "      <td>0.799560</td>\n",
       "      <td>0.999990</td>\n",
       "      <td>0.0</td>\n",
       "      <td>0.408496</td>\n",
       "      <td>3.537629</td>\n",
       "      <td>0.00</td>\n",
       "      <td>0.156250</td>\n",
       "      <td>1.0</td>\n",
       "      <td>127.0</td>\n",
       "      <td>-1.000</td>\n",
       "      <td>9.055533</td>\n",
       "      <td>1.35</td>\n",
       "    </tr>\n",
       "    <tr>\n",
       "      <th>3</th>\n",
       "      <td>5.601911</td>\n",
       "      <td>0.250</td>\n",
       "      <td>3.571688</td>\n",
       "      <td>2.992445</td>\n",
       "      <td>-0.892057</td>\n",
       "      <td>0.999999</td>\n",
       "      <td>0.0</td>\n",
       "      <td>0.276571</td>\n",
       "      <td>5.337098</td>\n",
       "      <td>0.40</td>\n",
       "      <td>0.519531</td>\n",
       "      <td>1.0</td>\n",
       "      <td>145.0</td>\n",
       "      <td>-0.375</td>\n",
       "      <td>22.357100</td>\n",
       "      <td>7.55</td>\n",
       "    </tr>\n",
       "    <tr>\n",
       "      <th>4</th>\n",
       "      <td>2.040387</td>\n",
       "      <td>0.625</td>\n",
       "      <td>6.642829</td>\n",
       "      <td>2.986990</td>\n",
       "      <td>-0.794670</td>\n",
       "      <td>0.999532</td>\n",
       "      <td>0.0</td>\n",
       "      <td>0.215732</td>\n",
       "      <td>1.830621</td>\n",
       "      <td>0.68</td>\n",
       "      <td>0.910156</td>\n",
       "      <td>1.0</td>\n",
       "      <td>87.0</td>\n",
       "      <td>-0.375</td>\n",
       "      <td>13.555475</td>\n",
       "      <td>7.15</td>\n",
       "    </tr>\n",
       "  </tbody>\n",
       "</table>\n",
       "</div>"
      ],
      "text/plain": [
       "           V0pt  TPCnSigmaHe3  DistOverP   InvMass  ArmenterosAlpha   V0CosPA  \\\n",
       "entry                                                                           \n",
       "0      1.801913         0.500   3.079487  2.992206         0.848579  0.997848   \n",
       "1      2.850354         0.625   5.009816  2.992606        -0.865971  0.999918   \n",
       "2      3.941775        -0.500   2.213483  2.993389         0.799560  0.999990   \n",
       "3      5.601911         0.250   3.571688  2.992445        -0.892057  0.999999   \n",
       "4      2.040387         0.625   6.642829  2.986990        -0.794670  0.999532   \n",
       "\n",
       "       V0Chi2  PiProngPt  He3ProngPt  ProngsDCA  He3ProngPvDCA  PiProngPvDCA  \\\n",
       "entry                                                                          \n",
       "0         0.0   0.194784    1.619431       0.77       1.000000           1.0   \n",
       "1         0.0   0.193109    2.667301       0.58       0.667969           1.0   \n",
       "2         0.0   0.408496    3.537629       0.00       0.156250           1.0   \n",
       "3         0.0   0.276571    5.337098       0.40       0.519531           1.0   \n",
       "4         0.0   0.215732    1.830621       0.68       0.910156           1.0   \n",
       "\n",
       "       NpidClustersHe3  TPCnSigmaPi       Lrec  Centrality  \n",
       "entry                                                       \n",
       "0                120.0        0.125   6.497778        4.65  \n",
       "1                124.0        1.125  14.319689        4.65  \n",
       "2                127.0       -1.000   9.055533        1.35  \n",
       "3                145.0       -0.375  22.357100        7.55  \n",
       "4                 87.0       -0.375  13.555475        7.15  "
      ]
     },
     "execution_count": 5,
     "metadata": {},
     "output_type": "execute_result"
    }
   ],
   "source": [
    "df_MC.head()"
   ]
  },
  {
   "cell_type": "markdown",
   "metadata": {},
   "source": [
    "## Provo a vedere cosa succede usando i tagli standard"
   ]
  },
  {
   "cell_type": "code",
   "execution_count": 6,
   "metadata": {},
   "outputs": [],
   "source": [
    "df_data=df_data.astype('float')"
   ]
  },
  {
   "cell_type": "code",
   "execution_count": 18,
   "metadata": {},
   "outputs": [
    {
     "data": {
      "image/png": "[encoded data removed]",
      "text/plain": [
       "<Figure size 432x288 with 1 Axes>"
      ]
     },
     "metadata": {
      "needs_background": "light"
     },
     "output_type": "display_data"
    },
    {
     "data": {
      "image/png": "[encoded data removed]",
      "text/plain": [
       "<Figure size 432x288 with 1 Axes>"
      ]
     },
     "metadata": {
      "needs_background": "light"
     },
     "output_type": "display_data"
    },
    {
     "data": {
      "image/png": "[encoded data removed]",
      "text/plain": [
       "<Figure size 432x288 with 1 Axes>"
      ]
     },
     "metadata": {
      "needs_background": "light"
     },
     "output_type": "display_data"
    },
    {
     "data": {
      "image/png": "[encoded data removed]",
      "text/plain": [
       "<Figure size 432x288 with 1 Axes>"
      ]
     },
     "metadata": {
      "needs_background": "light"
     },
     "output_type": "display_data"
    },
    {
     "data": {
      "image/png": "[encoded data removed]",
      "text/plain": [
       "<Figure size 432x288 with 1 Axes>"
      ]
     },
     "metadata": {
      "needs_background": "light"
     },
     "output_type": "display_data"
    },
    {
     "data": {
      "image/png": "[encoded data removed]",
      "text/plain": [
       "<Figure size 432x288 with 1 Axes>"
      ]
     },
     "metadata": {
      "needs_background": "light"
     },
     "output_type": "display_data"
    },
    {
     "data": {
      "image/png": "[encoded data removed]",
      "text/plain": [
       "<Figure size 432x288 with 1 Axes>"
      ]
     },
     "metadata": {
      "needs_background": "light"
     },
     "output_type": "display_data"
    },
    {
     "data": {
      "image/png": "[encoded data removed]",
      "text/plain": [
       "<Figure size 432x288 with 1 Axes>"
      ]
     },
     "metadata": {
      "needs_background": "light"
     },
     "output_type": "display_data"
    },
    {
     "data": {
      "image/png": "[encoded data removed]",
      "text/plain": [
       "<Figure size 432x288 with 1 Axes>"
      ]
     },
     "metadata": {
      "needs_background": "light"
     },
     "output_type": "display_data"
    },
    {
     "data": {
      "image/png": "[encoded data removed]",
      "text/plain": [
       "<Figure size 432x288 with 1 Axes>"
      ]
     },
     "metadata": {
      "needs_background": "light"
     },
     "output_type": "display_data"
    }
   ],
   "source": [
    "for i in range(10):\n",
    "    plt.figure();\n",
    "    hyper_df=df_data.query('V0pt>=@i and V0pt<@i+1 and Centrality>10.0 and Centrality<=40.0 ')\n",
    "    n,bins,_=plt.hist(hyper_df['InvMass'],bins=26,range=[2.97,3.05],histtype='barstacked')\n",
    "    title('{} < pT < {}'.format(i,i+1))\n",
    "    xlabel('$m_{inv}$')\n",
    "    ylabel('events / $(2.0\\ GeV/\\it{c}^2)$')"
   ]
  },
  {
   "cell_type": "markdown",
   "metadata": {},
   "source": [
    "# Creo e salvo pandas per ML"
   ]
  },
  {
   "cell_type": "code",
   "execution_count": 10,
   "metadata": {},
   "outputs": [],
   "source": [
    "df_Bkg = df_data.query('(InvMass<2.98 or InvMass>3.005) and V0pt<=10')\n",
    "df_Bkg=df_Bkg[0:10*len(df_MC)]\n",
    "df_Bkg['y']=0\n",
    "df_MC['y']=1"
   ]
  },
  {
   "cell_type": "code",
   "execution_count": 15,
   "metadata": {},
   "outputs": [],
   "source": [
    "df_ML= pd.concat([df_MC,df_Bkg])\n",
    "df_ML.to_pickle('~/data/hyper2body_data/df_ML.pkl')"
   ]
  },
  {
   "cell_type": "code",
   "execution_count": 16,
   "metadata": {},
   "outputs": [],
   "source": [
    "df_Sig_data=df_data.query('2.960<InvMass<3.050 and V0pt<=10')"
   ]
  },
  {
   "cell_type": "code",
   "execution_count": 17,
   "metadata": {},
   "outputs": [],
   "source": [
    "df_Sig_data.to_pickle('~/data/hyper2body_data/df_Sig_data.pkl')"
   ]
  }
 ],
 "metadata": {
  "kernelspec": {
   "display_name": "Python 3",
   "language": "python",
   "name": "python3"
  },
  "language_info": {
   "codemirror_mode": {
    "name": "ipython",
    "version": 3
   },
   "file_extension": ".py",
   "mimetype": "text/x-python",
   "name": "python",
   "nbconvert_exporter": "python",
   "pygments_lexer": "ipython3",
   "version": "3.6.3"
  }
 },
 "nbformat": 4,
 "nbformat_minor": 2
}
