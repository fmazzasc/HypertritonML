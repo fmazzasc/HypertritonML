{
 "cells": [
  {
   "cell_type": "code",
   "execution_count": 1,
   "metadata": {},
   "outputs": [
    {
     "name": "stdout",
     "output_type": "stream",
     "text": [
      "Populating the interactive namespace from numpy and matplotlib\n"
     ]
    }
   ],
   "source": [
    "%pylab inline\n",
    "import pickle\n",
    "import pandas as pd"
   ]
  },
  {
   "cell_type": "code",
   "execution_count": 2,
   "metadata": {},
   "outputs": [],
   "source": [
    "df_18r=pd.read_pickle('df_18r.pkl')"
   ]
  },
  {
   "cell_type": "code",
   "execution_count": 20,
   "metadata": {},
   "outputs": [],
   "source": [
    "def SignificanceScan(df):\n",
    "    sig_array=[]    \n",
    "    sign_array=[]\n",
    "    max_score=np.max(df['Score'])\n",
    "    min_score=0\n",
    "    score_list=np.linspace(min_score,max_score,50)\n",
    "    for i in score_list:\n",
    "        df_cut=df.query('Score>@i')['InvMass']\n",
    "        counts,bins=np.histogram(df_cut,bins=50,range=[2.96,3.04]);\n",
    "        bin_centers = 0.5*(bins[1:]+bins[:-1])\n",
    "        sidemap=(bin_centers<2.9923-3*0.0029) + (bin_centers>2.9923+3*0.0029)\n",
    "        massmap=logical_not(sidemap)\n",
    "        bins_side = bin_centers[sidemap]\n",
    "        counts_side= counts[sidemap]\n",
    "        h=polyfit(bins_side,counts_side,2)\n",
    "        y=polyval(h,bins_side)\n",
    "        counts_mass= sum(counts[massmap])\n",
    "        bkg=sum(polyval(h,bin_centers[massmap]))\n",
    "        sig=counts_mass-bkg\n",
    "        significance=sig/sqrt(sig+bkg+1e-10)\n",
    "        sig_array.append(sig)\n",
    "        sign_array.append(significance)\n",
    "    plot(score_list,sign_array,'b')\n",
    "    print('Best Score: ',float(score_list[np.where(sign_array==np.max(sign_array))]))\n",
    "    print('Significance: ',np.max(sign_array))\n",
    "    sig_array=np.asarray(sig_array)\n",
    "    print('Raw yield: ', float(sig_array[np.where(sign_array==np.max(sign_array))]))\n"
   ]
  },
  {
   "cell_type": "code",
   "execution_count": 21,
   "metadata": {},
   "outputs": [
    {
     "name": "stdout",
     "output_type": "stream",
     "text": [
      "Best Score:  6.233509452975526\n",
      "Significance:  9.221705367165697\n",
      "Raw yield:  115.9150390625\n"
     ]
    },
    {
     "data": {
      "image/png": "[encoded data removed]",
      "text/plain": [
       "<Figure size 432x288 with 1 Axes>"
      ]
     },
     "metadata": {
      "needs_background": "light"
     },
     "output_type": "display_data"
    }
   ],
   "source": [
    "SignificanceScan(df_18r)"
   ]
  },
  {
   "cell_type": "markdown",
   "metadata": {},
   "source": [
    "## Example"
   ]
  },
  {
   "cell_type": "code",
   "execution_count": 59,
   "metadata": {},
   "outputs": [],
   "source": [
    "df_18r=df_18r.astype('float')\n",
    "df_cut=df_18r.query('Score>4')['InvMass']\n",
    "counts,bins=np.histogram(df_cut,bins=50,range=[2.96,3.04]);\n",
    "bin_centers = 0.5*(bins[1:]+bins[:-1])\n",
    "sidemap=(bin_centers<2.9923-3*0.0029) + (bin_centers>2.9923+3*0.0029)\n",
    "massmap=logical_not(sidemap)\n",
    "bins_side = bin_centers[sidemap]\n",
    "counts_side= counts[sidemap]\n",
    "h=polyfit(bins_side,counts_side,2)\n",
    "y=polyval(h,bins_side)\n",
    "counts_mass= sum(counts[massmap])\n",
    "bkg=sum(polyval(h,bin_centers[massmap]))\n",
    "sig=counts_mass-bkg\n",
    "significance=sig/sqrt(sig+bkg+1e-10)"
   ]
  },
  {
   "cell_type": "code",
   "execution_count": 60,
   "metadata": {},
   "outputs": [
    {
     "data": {
      "text/plain": [
       "[<matplotlib.lines.Line2D at 0x7f4eab7cf320>]"
      ]
     },
     "execution_count": 60,
     "metadata": {},
     "output_type": "execute_result"
    },
    {
     "data": {
      "image/png": "[encoded data removed]",
      "text/plain": [
       "<Figure size 432x288 with 1 Axes>"
      ]
     },
     "metadata": {
      "needs_background": "light"
     },
     "output_type": "display_data"
    }
   ],
   "source": [
    "plt.plot(bins_side,y,'r')\n",
    "plt.plot(bins_side,counts_side,'b.')\n",
    "plt.plot(bin_centers[massmap],counts[massmap],'g.')"
   ]
  },
  {
   "cell_type": "code",
   "execution_count": null,
   "metadata": {},
   "outputs": [],
   "source": []
  },
  {
   "cell_type": "code",
   "execution_count": null,
   "metadata": {},
   "outputs": [],
   "source": []
  }
 ],
 "metadata": {
  "kernelspec": {
   "display_name": "Python 3",
   "language": "python",
   "name": "python3"
  },
  "language_info": {
   "codemirror_mode": {
    "name": "ipython",
    "version": 3
   },
   "file_extension": ".py",
   "mimetype": "text/x-python",
   "name": "python",
   "nbconvert_exporter": "python",
   "pygments_lexer": "ipython3",
   "version": "3.6.7"
  }
 },
 "nbformat": 4,
 "nbformat_minor": 2
}
